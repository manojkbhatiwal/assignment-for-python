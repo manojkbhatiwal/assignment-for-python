{
 "cells": [
  {
   "cell_type": "code",
   "execution_count": null,
   "id": "bc1c2ead",
   "metadata": {},
   "outputs": [],
   "source": [
    "Q(1) In the below elements which of them are values or an expression? eg:- values can be\n",
    "integer or string and expressions will be mathematical operators.\n",
    "\n",
    "Ans= (a) * is a Airthmetical Operator.\n",
    "    \n",
    "    (b) 'hello' is a String single Quote.\n",
    "    \n",
    "    (c)  -87.8 is Float point number.\n",
    "    \n",
    "    (d)  / is a Arithmetcal operator.\n",
    "    \n",
    "    (e) - and + are Arithmetic Operator.\n",
    "    \n",
    "    (f) 6 is intiger number.\n",
    "    \n",
    "    \n",
    "Q(2)What is the difference between string and variable?\n",
    "\n",
    "Ans= Veriable-Averiable is the name given to a memory loction in a program.\n",
    "exmpale - a=30 ,veriable contains to store a value.\n",
    "\n",
    "String- String is a data type in python.and Strings is a sequence of charactor enclosed in quotes.\n",
    "\n",
    "\n",
    "Q(3) Describe three different data types.\n",
    "\n",
    "Ans= Primarily there are following Data types in python.\n",
    "(a)Intiger    (b)Floating Point Number  (c)Strings   \n",
    "(d)Booleans   (e)Dictionary (f)List\n",
    "(g)set\n",
    "\n",
    "(a)Intiger-In Python, integers are zero, positive or negative whole numbers without a fractional part\n",
    "and having unlimited precision, e.g. 0, 100, -10. The followings are valid integer literals in Python.\n",
    "Integers can be binary, octal, and hexadecimal values. All integer literals or variables are objects of the int class.\n",
    "\n",
    "(b)Floating Point Number-The float type in Python represents the floating point number.\n",
    "Float is used to represent real numbers and is written with a decimal point dividing the integer and fractional parts.\n",
    "For example, 97.98, 32.3+e18, -32.54e100 all are floating point numbers.\n",
    "\n",
    "(c)Strings-String is a data type in python.and Strings is a sequence of charactor enclosed in quotes.\n",
    "\n",
    "'' Single qoute \n",
    "\n",
    "\" \" Double qoute\n",
    "\n",
    "\"''\" Triple Quote\n",
    "\n",
    "(d)Booleans-Data type with one of the two built-in values, True or False.\n",
    "\n",
    "Boolean objects that are equal to True are truthy (true), and those equal to False are falsy (false).\n",
    "But non-Boolean objects can be evaluated in Boolean context as well and determined to be true or false.\n",
    "It is denoted by the class bool.\n",
    "\n",
    "Note – True and False with capital ‘T’ and ‘F’ are valid booleans otherwise python will throw an error.\n",
    "\n",
    "(e)Dictionary- Dictionary in Python is an unordered collection of data values, used to store data values like a map,\n",
    "which, unlike other Data Types that hold only a single value as an element, Dictionary holds key:value pair. \n",
    "Key-value is provided in the dictionary to make it more optimized.\n",
    "\n",
    "(f)list-A list is a data structure in Python that is a mutable, \n",
    "or changeable, ordered sequence of elements. Each element or value that is inside of a list is called an item.\n",
    "Just as strings are defined as characters between quotes, lists are defined by having values between square brackets [ ].\n",
    "\n",
    "(g)Set-Sets are used to store multiple items in a single variable.\n",
    "Set is one of 4 built-in data types in Python used to store collections of data,\n",
    "the other 3 are List, Tuple, and Dictionary, all with different qualities and usage.\n",
    "A set is a collection which is unordered, unchangeable*, and unindexed.\n",
    "\n",
    "\n",
    "Q(4) What is an expression made up of? What do all expressions do?\n",
    "\n",
    "Ans(4)-An expression is a construct made up of variables, operators,\n",
    "and method invocations, which are constructed according to the syntax of the language,\n",
    "that evaluates to a single value.\n",
    "\n"
   ]
  },
  {
   "cell_type": "code",
   "execution_count": 1,
   "id": "dc7000cd",
   "metadata": {},
   "outputs": [
    {
     "data": {
      "text/plain": [
       "20"
      ]
     },
     "execution_count": 1,
     "metadata": {},
     "output_type": "execute_result"
    }
   ],
   "source": [
    "5*4+50-50 # Is an Expression, The Python Interpreter Evaluates it to 20"
   ]
  },
  {
   "cell_type": "code",
   "execution_count": 4,
   "id": "983fa227",
   "metadata": {},
   "outputs": [
    {
     "ename": "SyntaxError",
     "evalue": "invalid syntax (159240337.py, line 1)",
     "output_type": "error",
     "traceback": [
      "\u001b[1;36m  Input \u001b[1;32mIn [4]\u001b[1;36m\u001b[0m\n\u001b[1;33m    5.This assignment statements, like spam = 10.\u001b[0m\n\u001b[1;37m      ^\u001b[0m\n\u001b[1;31mSyntaxError\u001b[0m\u001b[1;31m:\u001b[0m invalid syntax\n"
     ]
    }
   ],
   "source": [
    "5.This assignment statements, like spam = 10.\n",
    "What is the difference between an expression and a statement?\n",
    "\n",
    "\n",
    "Ans: An expression is a combination of values, variables, and operators.\n",
    "    When we type an expression at the prompt, the interpreter evaluates it,\n",
    "    which means that it finds the value of the expression.An expression is evaluated as per the precedence of its operators. \n",
    "    So that if there is more than one operator in an expression, their precedence decides which operation will be performed \n",
    "    first.\n",
    "\n",
    "A statement is a unit of code that has an effect, \n",
    "like creating a variable or displaying a value.When we type a statement, the interpreter executes it\n",
    ", which means that it does whatever the statement says. In general, statements don’t have values.\n",
    "A statement is an instruction that a Python interpreter can execute. There are mainly four types of statements in Python,\n",
    "Print statements, Assignment statements, Conditional statements and Looping statements.\n",
    "\n",
    "eg: courseName = 'Yay!! I am going to be a data engineer', spam = 10"
   ]
  },
  {
   "cell_type": "code",
   "execution_count": null,
   "id": "4c185d49",
   "metadata": {},
   "outputs": [],
   "source": [
    "eg: 5*4+50-50 is an example of a expression"
   ]
  },
  {
   "cell_type": "code",
   "execution_count": 5,
   "id": "78c54dec",
   "metadata": {},
   "outputs": [
    {
     "name": "stdout",
     "output_type": "stream",
     "text": [
      "iNeuron\n"
     ]
    }
   ],
   "source": [
    "#Example:\n",
    "5*4+50-50 # Is a Expression\n",
    "courseName = 'Yay!! I am going to be a data engineer' # Is a Statement\n",
    "print(\"iNeuron\") # Is a Expression Statement"
   ]
  },
  {
   "cell_type": "code",
   "execution_count": null,
   "id": "3e76c595",
   "metadata": {},
   "outputs": [],
   "source": [
    "6.After running the following code, what does the variable bacon contain?\n",
    "bacon = 22\n",
    "bacon + 1\n",
    "\n",
    "Ans: The variable bacon is set to 22 .The expression bacon + 1 does not reassign the value \n",
    "    in bacon (that would the case if the expression is like bacon = bacon + 1 instead of bacon + 1)"
   ]
  },
  {
   "cell_type": "code",
   "execution_count": 6,
   "id": "fcc36b84",
   "metadata": {},
   "outputs": [
    {
     "name": "stdout",
     "output_type": "stream",
     "text": [
      "22\n"
     ]
    }
   ],
   "source": [
    "# Example Case#1\n",
    "bacon=22\n",
    "bacon + 1\n",
    "print(bacon)"
   ]
  },
  {
   "cell_type": "code",
   "execution_count": 7,
   "id": "21d24be2",
   "metadata": {},
   "outputs": [
    {
     "name": "stdout",
     "output_type": "stream",
     "text": [
      "23\n"
     ]
    }
   ],
   "source": [
    "#Example Case#2\n",
    "bacon=22\n",
    "bacon=bacon+1 \n",
    "print(bacon)"
   ]
  },
  {
   "cell_type": "code",
   "execution_count": null,
   "id": "5282a778",
   "metadata": {},
   "outputs": [],
   "source": [
    "7.What should the values of the following two terms be?\n",
    "'spam'+'spamspam'\n",
    "'spam'*3\n",
    "\n",
    "Ans: Both expressions evaluate to the string 'spamspamspam' Where as the first expression follows \n",
    "    String Concatentation and the second expression follows String Multiplication."
   ]
  },
  {
   "cell_type": "code",
   "execution_count": 9,
   "id": "1cf01d81",
   "metadata": {},
   "outputs": [
    {
     "name": "stdout",
     "output_type": "stream",
     "text": [
      "spamspamspam\n",
      "spamspamspam\n"
     ]
    }
   ],
   "source": [
    "print('spam'+'spamspam') # string concatenation\n",
    "print('spam'*3) # string multiplication"
   ]
  },
  {
   "cell_type": "code",
   "execution_count": null,
   "id": "a54a7792",
   "metadata": {},
   "outputs": [],
   "source": [
    "8. Why is eggs a valid variable name while 100 is invalid?\n",
    "\n",
    "Ans: As per python,Variable names cannot begin with a number. The python rules for naming a variable are :-\n",
    "\n",
    "1.Variable name must start with a letter or the underscore character.\n",
    "2.Variable name cannot start with a number.\n",
    "3.Variable name can only contain alpha-numeric characters and underscores (A-z, 0-9, & _ ).\n",
    "5.Variable names are case-sensitive (name, GAURAV and gaurav are three different variables).\n",
    "6.The reserved words(keywords) cannot be used naming the variable."
   ]
  },
  {
   "cell_type": "code",
   "execution_count": 14,
   "id": "21c54f84",
   "metadata": {},
   "outputs": [
    {
     "ename": "SyntaxError",
     "evalue": "cannot assign to literal (1863231462.py, line 2)",
     "output_type": "error",
     "traceback": [
      "\u001b[1;36m  Input \u001b[1;32mIn [14]\u001b[1;36m\u001b[0m\n\u001b[1;33m    100='hello' # Invalid Variable Initilization\u001b[0m\n\u001b[1;37m    ^\u001b[0m\n\u001b[1;31mSyntaxError\u001b[0m\u001b[1;31m:\u001b[0m cannot assign to literal\n"
     ]
    }
   ],
   "source": [
    "egg='manoj' # Valid variable Initilization\n",
    "100='hello' # Invalid Variable Initilization\n",
    "print(egg) # prints the value of egg ie Ineuron\n",
    "print(100) # Raises a Syntax Error as 100 is not a valid variable name"
   ]
  },
  {
   "cell_type": "code",
   "execution_count": null,
   "id": "efee4cb9",
   "metadata": {},
   "outputs": [],
   "source": [
    "9.What three functions can be used to get the integer,floating-point number,or string version of a value?\n",
    "\n",
    "Ans: The int(),float(),and str() functions will evaluate to the integer,\n",
    "    floating-point number,string version of the value passed to them."
   ]
  },
  {
   "cell_type": "code",
   "execution_count": 15,
   "id": "dd75af36",
   "metadata": {},
   "outputs": [
    {
     "name": "stdout",
     "output_type": "stream",
     "text": [
      "int(10.0) ->  10\n",
      "float(10) ->  10.0\n",
      "str(10) ->  10\n"
     ]
    }
   ],
   "source": [
    "# Examples:\n",
    "print('int(10.0) -> ',int(10.0)) # int() function converts given input to int\n",
    "print('float(10) -> ',float(10)) # float() function converts given input to float\n",
    "print('str(10) -> ',str(10)) # str() function converts given input to string"
   ]
  },
  {
   "cell_type": "code",
   "execution_count": null,
   "id": "f4fc99d2",
   "metadata": {},
   "outputs": [],
   "source": [
    "10.Why does this expression cause an error? how can you fix it?\n",
    "\n",
    "'I have taken ' + 1 + 'coffee.'\n",
    "\n",
    "Ans: This cause of error is 1.because 1 is not a string. 1 must be typecasted to a string to fix this error. \n",
    "    The correct way of representing is mentioned below:\n",
    "Input: 'I have taken ' + str(1) + 'coffee.'\n",
    "Output: 'I have eaten 99 burritos.'"
   ]
  },
  {
   "cell_type": "code",
   "execution_count": 17,
   "id": "b169b0e2",
   "metadata": {},
   "outputs": [
    {
     "data": {
      "text/plain": [
       "'I have taken 1 coffee.'"
      ]
     },
     "execution_count": 17,
     "metadata": {},
     "output_type": "execute_result"
    }
   ],
   "source": [
    "'I have taken ' + str(1) + ' coffee.'"
   ]
  }
 ],
 "metadata": {
  "kernelspec": {
   "display_name": "Python 3 (ipykernel)",
   "language": "python",
   "name": "python3"
  },
  "language_info": {
   "codemirror_mode": {
    "name": "ipython",
    "version": 3
   },
   "file_extension": ".py",
   "mimetype": "text/x-python",
   "name": "python",
   "nbconvert_exporter": "python",
   "pygments_lexer": "ipython3",
   "version": "3.9.12"
  }
 },
 "nbformat": 4,
 "nbformat_minor": 5
}
