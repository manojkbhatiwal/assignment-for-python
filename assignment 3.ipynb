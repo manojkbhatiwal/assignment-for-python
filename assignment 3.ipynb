{
 "cells": [
  {
   "cell_type": "code",
   "execution_count": null,
   "id": "66f16731",
   "metadata": {},
   "outputs": [],
   "source": [
    "Q.1 Why are functions advantageous to have in your programs?\n",
    "\n",
    "ans. They can be reused and Functions reduce the need for duplicate code. This makes programs shorter, easier to read, and easier to update. \n",
    "The main advantage of functions is code Reusability.\n",
    "Increases program readability.\n",
    "Divide a complex problem into simpler ones.\n",
    "Reduces chances of error.\n",
    "Modifying a program becomes easier by using function"
   ]
  },
  {
   "cell_type": "code",
   "execution_count": null,
   "id": "f73beee9",
   "metadata": {},
   "outputs": [],
   "source": [
    "Q.2 When does the code in a function run: when it's specified or when it's called?\n",
    "\n",
    "Ans: The code in a function executes when the function is called,\n",
    "    not when the function is specified. When a function is \"called\" the program \"leaves\" \n",
    "    the current section of code and begins to execute the first line inside the function. Example is mentioned below:     "
   ]
  },
  {
   "cell_type": "code",
   "execution_count": 9,
   "id": "3d81bc46",
   "metadata": {},
   "outputs": [],
   "source": [
    "def genfib1(n) :\n",
    "    a = 1\n",
    "    b = 1\n",
    "    for i in range(n) :\n",
    "        yield a\n",
    "        a,b = b , a+b  #its mean a=b,b=a+b"
   ]
  },
  {
   "cell_type": "code",
   "execution_count": 11,
   "id": "28f67470",
   "metadata": {
    "scrolled": true
   },
   "outputs": [
    {
     "name": "stdout",
     "output_type": "stream",
     "text": [
      "1\n",
      "1\n",
      "2\n",
      "3\n",
      "5\n",
      "8\n",
      "13\n",
      "21\n",
      "34\n",
      "55\n"
     ]
    }
   ],
   "source": [
    "for i in genfib1(10) :\n",
    "    print(i)"
   ]
  },
  {
   "cell_type": "code",
   "execution_count": null,
   "id": "64e46484",
   "metadata": {},
   "outputs": [],
   "source": [
    "Q.3 What statement creates a function?\n",
    "Ans: The def statement defines a function\n",
    "Syntax of Function:\n",
    "def function_name(parameters):\n",
    "       \n",
    "    -----function body-----\n",
    "    -----function body-----\n",
    "    return value"
   ]
  },
  {
   "cell_type": "code",
   "execution_count": 13,
   "id": "44e418a0",
   "metadata": {},
   "outputs": [],
   "source": [
    "def genfib1(n) :\n",
    "    a = 1\n",
    "    b = 1\n",
    "    for i in range(n) :\n",
    "        yield a\n",
    "        a,b = b , a+b  #its mean a=b,b=a+b"
   ]
  },
  {
   "cell_type": "code",
   "execution_count": 14,
   "id": "8a893251",
   "metadata": {},
   "outputs": [
    {
     "name": "stdout",
     "output_type": "stream",
     "text": [
      "1\n",
      "1\n",
      "2\n",
      "3\n",
      "5\n",
      "8\n",
      "13\n",
      "21\n",
      "34\n",
      "55\n"
     ]
    }
   ],
   "source": [
    "for i in genfib1(10) :\n",
    "    print(i)"
   ]
  },
  {
   "cell_type": "code",
   "execution_count": null,
   "id": "59e4a418",
   "metadata": {},
   "outputs": [],
   "source": [
    "Q.4 What is the difference between a function and a function call?\n",
    "\n",
    "Ans: A function is a block of code that does a particular operation and \n",
    "    returns a result. It usually accepts inputs as parameters and returns a result.\n",
    "    A Function call is use to get result of defined function.\n",
    "    "
   ]
  },
  {
   "cell_type": "code",
   "execution_count": 16,
   "id": "962a3ff3",
   "metadata": {},
   "outputs": [
    {
     "data": {
      "text/plain": [
       "4096"
      ]
     },
     "execution_count": 16,
     "metadata": {},
     "output_type": "execute_result"
    }
   ],
   "source": [
    "#Function\n",
    "def square(x):\n",
    "  \treturn x*x\n",
    "#Function Call\n",
    "(square(64))"
   ]
  },
  {
   "cell_type": "code",
   "execution_count": null,
   "id": "aa49f912",
   "metadata": {},
   "outputs": [],
   "source": [
    "5. How many global scopes are there in a Python program? How many local scopes?\n",
    "\n",
    "Ans: There is one global scope, and a local scope is created whenever a function is called.\n",
    "    A variable created inside a function belongs to the local scope of that function, and can only be used inside that\n",
    "    function whereas A variable created in the main body of the Python code is a global variable and belongs to the global scope."
   ]
  },
  {
   "cell_type": "code",
   "execution_count": 17,
   "id": "babb678b",
   "metadata": {},
   "outputs": [
    {
     "name": "stdout",
     "output_type": "stream",
     "text": [
      "10\n"
     ]
    }
   ],
   "source": [
    "#Example of Local Scope\n",
    "def myfunc():\n",
    "  x = 10\n",
    "  def myinnerfunc():\n",
    "    print(x)\n",
    "  myinnerfunc()\n",
    "\n",
    "myfunc()\n"
   ]
  },
  {
   "cell_type": "code",
   "execution_count": 19,
   "id": "ff074a37",
   "metadata": {},
   "outputs": [
    {
     "name": "stdout",
     "output_type": "stream",
     "text": [
      "10\n"
     ]
    }
   ],
   "source": [
    "#Example of Global Scope\n",
    "x = 10\n",
    "\n",
    "def myfunc():\n",
    "  print(x)\n",
    "\n",
    "myfunc()\n",
    "\n",
    "\n"
   ]
  },
  {
   "cell_type": "code",
   "execution_count": null,
   "id": "8c112590",
   "metadata": {},
   "outputs": [],
   "source": [
    "Q6. What happens to variables in a local scope when the function call returns?\n",
    "\n",
    "Ans:When a function returns, the local scope is destroyed, and all the variables in it are forgotten.\n",
    "A local variable becomes undefined after the function call completes."
   ]
  },
  {
   "cell_type": "code",
   "execution_count": null,
   "id": "33d4682f",
   "metadata": {},
   "outputs": [],
   "source": [
    "Q.7 What is the concept of a return value? Is it possible to have a return value in an expression?\n",
    "\n",
    "Ans: The Python return statement is a key component of functions and methods.\n",
    "     We can use the return statement to make functions send Python objects back to the caller code.\n",
    "     These objects are known as the function’s return value. A return value is the value that a function call evaluates to.\n",
    "     Like any value, a return value can be used as part of an expression."
   ]
  },
  {
   "cell_type": "code",
   "execution_count": null,
   "id": "b3a1ac2c",
   "metadata": {},
   "outputs": [],
   "source": [
    "Q.8 If a function does not have a return statement, what is the return value of a call to that function?\n",
    "\n",
    "Ans: If there is no return statement for a function, its return value is None.\n",
    "The function always returns None if explicit return is not written."
   ]
  },
  {
   "cell_type": "code",
   "execution_count": null,
   "id": "74e37155",
   "metadata": {},
   "outputs": [],
   "source": [
    "Q.9 How do you make a function variable refer to the global variable?\n",
    "Ans: A global statement will force a variable in a function to refer to the global variable.\n",
    "    If you want to refer to a global variable in a function, you can use the global keyword \n",
    "    to declare which variables are global."
   ]
  },
  {
   "cell_type": "code",
   "execution_count": null,
   "id": "a59cc0bc",
   "metadata": {},
   "outputs": [],
   "source": [
    "Q.10 What is the data type of None?\n",
    "\n",
    "Ans: The data type of None is NoneType."
   ]
  },
  {
   "cell_type": "code",
   "execution_count": null,
   "id": "e674ae62",
   "metadata": {},
   "outputs": [],
   "source": [
    "Q.11 What does the sentence import areallyourpetsnamederic do?\n",
    "\n",
    "Ans: That import statement imports a module named areallyourpetsnamederic."
   ]
  },
  {
   "cell_type": "code",
   "execution_count": null,
   "id": "2d3900b9",
   "metadata": {},
   "outputs": [],
   "source": [
    "Q.12 If you had a bacon() feature in a spam module, what would you call it after importing spam?\n",
    "\n",
    "Ans: This function can be called with spam.bacon()."
   ]
  },
  {
   "cell_type": "code",
   "execution_count": null,
   "id": "ec473a70",
   "metadata": {},
   "outputs": [],
   "source": [
    "Q.13 What can you do to save a programme from crashing if it encounters an error?\n",
    "\n",
    "Ans: We can place the line of code that might cause an error in a try clause and \n",
    "     use except block to handle the error as mentioned below:"
   ]
  },
  {
   "cell_type": "code",
   "execution_count": 20,
   "id": "b8cff206",
   "metadata": {},
   "outputs": [
    {
     "name": "stdout",
     "output_type": "stream",
     "text": [
      "10\n"
     ]
    }
   ],
   "source": [
    "try:\n",
    "  print(x)\n",
    "except:\n",
    "  print(\"An exception occurred\") "
   ]
  },
  {
   "cell_type": "code",
   "execution_count": null,
   "id": "f45f94f4",
   "metadata": {},
   "outputs": [],
   "source": [
    "Q.14 What is the purpose of the try clause? What is the purpose of the except clause?\n",
    "\n",
    "ANS:The code that could potentially cause an error goes in the try clause.\n",
    "    The code that executes if an error happens goes in the except clause."
   ]
  },
  {
   "cell_type": "code",
   "execution_count": 21,
   "id": "da064870",
   "metadata": {},
   "outputs": [
    {
     "name": "stdout",
     "output_type": "stream",
     "text": [
      "700\n"
     ]
    }
   ],
   "source": [
    "x = 700\n",
    "try:\n",
    "  print(x)\n",
    "except NameError:\n",
    "  print(\"Variable x is not defined\")\n",
    "except:\n",
    "  print(\"Something else went wrong\") "
   ]
  }
 ],
 "metadata": {
  "kernelspec": {
   "display_name": "Python 3 (ipykernel)",
   "language": "python",
   "name": "python3"
  },
  "language_info": {
   "codemirror_mode": {
    "name": "ipython",
    "version": 3
   },
   "file_extension": ".py",
   "mimetype": "text/x-python",
   "name": "python",
   "nbconvert_exporter": "python",
   "pygments_lexer": "ipython3",
   "version": "3.9.12"
  }
 },
 "nbformat": 4,
 "nbformat_minor": 5
}
